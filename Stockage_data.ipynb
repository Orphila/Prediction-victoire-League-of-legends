{
  "cells": [
    {
      "cell_type": "markdown",
      "source": [
        "I/Importation des modules et connexion à la bdd"
      ],
      "metadata": {
        "id": "5jYI39jit1k7"
      },
      "id": "5jYI39jit1k7"
    },
    {
      "cell_type": "code",
      "execution_count": null,
      "id": "edf22eec",
      "metadata": {
        "colab": {
          "base_uri": "https://localhost:8080/"
        },
        "id": "edf22eec",
        "outputId": "1d9f5d36-f1bc-4801-8eb1-7141156d9f0b"
      },
      "outputs": [
        {
          "output_type": "stream",
          "name": "stdout",
          "text": [
            "Looking in indexes: https://pypi.org/simple, https://us-python.pkg.dev/colab-wheels/public/simple/\n",
            "Requirement already satisfied: psycopg2 in /usr/local/lib/python3.8/dist-packages (2.9.5)\n"
          ]
        }
      ],
      "source": [
        "!pip install psycopg2\n",
        "import psycopg2\n",
        "import pandas as pd\n",
        "\n",
        "# Informations de connection, je prends soin de ne pas partager les miennes\n",
        "host = 'xxxxxxxxxx.rds.amazonaws.com'\n",
        "port = 5432\n",
        "database = 'xxxxxx'\n",
        "user = 'xxxxxxxx'\n",
        "password = 'xxxxxxxxx'\n",
        "\n",
        "# Création de la connection\n",
        "conn = psycopg2.connect(host=host,\n",
        "                        user=user,\n",
        "                        password=password,\n",
        "                        port=port)\n",
        "# Création du curseur\n",
        "cur = conn.cursor()"
      ]
    },
    {
      "cell_type": "markdown",
      "source": [
        "II/Création de la table"
      ],
      "metadata": {
        "id": "jxGxqJUfuOsI"
      },
      "id": "jxGxqJUfuOsI"
    },
    {
      "cell_type": "code",
      "source": [
        "# Création de la table\n",
        "table_name = 'DATA_PJT_RITO'\n",
        "def create_table(curr,table_name):\n",
        "    create_table_query = f'''\n",
        "    CREATE TABLE {table_name}\n",
        "    (wr_joueur_1 NUMERIC,\n",
        "    wr_joueur_2 NUMERIC,\n",
        "    wr_joueur_3 NUMERIC,\n",
        "    wr_joueur_4 NUMERIC,\n",
        "    wr_joueur_5 NUMERIC,\n",
        "    wr_joueur_6 NUMERIC,\n",
        "    wr_joueur_7 NUMERIC,\n",
        "    wr_joueur_8 NUMERIC,\n",
        "    wr_joueur_9 NUMERIC,\n",
        "    wr_joueur_10 NUMERIC,\n",
        "    masteries_joueur_1 NUMERIC,\n",
        "    masteries_joueur_2 NUMERIC,\n",
        "    masteries_joueur_3 NUMERIC,\n",
        "    masteries_joueur_4 NUMERIC,\n",
        "    masteries_joueur_5 NUMERIC,\n",
        "    masteries_joueur_6 NUMERIC,\n",
        "    masteries_joueur_7 NUMERIC,\n",
        "    masteries_joueur_8 NUMERIC,\n",
        "    masteries_joueur_9 NUMERIC,\n",
        "    masteries_joueur_10 NUMERIC,\n",
        "    wr_equipe_bleu NUMERIC,\n",
        "    wr_equipe_rouge NUMERIC,\n",
        "    masteries_blue NUMERIC,\n",
        "    masteries_red NUMERIC,\n",
        "    victoire_bleus NUMERIC);\n",
        "    '''\n",
        "    print('étape3')\n",
        "    cur.execute(create_table_query)\n",
        "\n",
        "create_table(cur,table_name)\n",
        "\n",
        "conn.commit()"
      ],
      "metadata": {
        "id": "DXdGUhWSt9eY"
      },
      "id": "DXdGUhWSt9eY",
      "execution_count": null,
      "outputs": []
    },
    {
      "cell_type": "code",
      "source": [
        "from google.colab import files\n",
        "uploaded = files.upload()"
      ],
      "metadata": {
        "colab": {
          "base_uri": "https://localhost:8080/",
          "height": 73
        },
        "id": "v3WghCoyImC5",
        "outputId": "7dbc2fb9-0a92-4356-ae41-2505427da721"
      },
      "id": "v3WghCoyImC5",
      "execution_count": null,
      "outputs": [
        {
          "output_type": "display_data",
          "data": {
            "text/plain": [
              "<IPython.core.display.HTML object>"
            ],
            "text/html": [
              "\n",
              "     <input type=\"file\" id=\"files-1332947c-93c2-4aad-a003-5e5f08524da5\" name=\"files[]\" multiple disabled\n",
              "        style=\"border:none\" />\n",
              "     <output id=\"result-1332947c-93c2-4aad-a003-5e5f08524da5\">\n",
              "      Upload widget is only available when the cell has been executed in the\n",
              "      current browser session. Please rerun this cell to enable.\n",
              "      </output>\n",
              "      <script>// Copyright 2017 Google LLC\n",
              "//\n",
              "// Licensed under the Apache License, Version 2.0 (the \"License\");\n",
              "// you may not use this file except in compliance with the License.\n",
              "// You may obtain a copy of the License at\n",
              "//\n",
              "//      http://www.apache.org/licenses/LICENSE-2.0\n",
              "//\n",
              "// Unless required by applicable law or agreed to in writing, software\n",
              "// distributed under the License is distributed on an \"AS IS\" BASIS,\n",
              "// WITHOUT WARRANTIES OR CONDITIONS OF ANY KIND, either express or implied.\n",
              "// See the License for the specific language governing permissions and\n",
              "// limitations under the License.\n",
              "\n",
              "/**\n",
              " * @fileoverview Helpers for google.colab Python module.\n",
              " */\n",
              "(function(scope) {\n",
              "function span(text, styleAttributes = {}) {\n",
              "  const element = document.createElement('span');\n",
              "  element.textContent = text;\n",
              "  for (const key of Object.keys(styleAttributes)) {\n",
              "    element.style[key] = styleAttributes[key];\n",
              "  }\n",
              "  return element;\n",
              "}\n",
              "\n",
              "// Max number of bytes which will be uploaded at a time.\n",
              "const MAX_PAYLOAD_SIZE = 100 * 1024;\n",
              "\n",
              "function _uploadFiles(inputId, outputId) {\n",
              "  const steps = uploadFilesStep(inputId, outputId);\n",
              "  const outputElement = document.getElementById(outputId);\n",
              "  // Cache steps on the outputElement to make it available for the next call\n",
              "  // to uploadFilesContinue from Python.\n",
              "  outputElement.steps = steps;\n",
              "\n",
              "  return _uploadFilesContinue(outputId);\n",
              "}\n",
              "\n",
              "// This is roughly an async generator (not supported in the browser yet),\n",
              "// where there are multiple asynchronous steps and the Python side is going\n",
              "// to poll for completion of each step.\n",
              "// This uses a Promise to block the python side on completion of each step,\n",
              "// then passes the result of the previous step as the input to the next step.\n",
              "function _uploadFilesContinue(outputId) {\n",
              "  const outputElement = document.getElementById(outputId);\n",
              "  const steps = outputElement.steps;\n",
              "\n",
              "  const next = steps.next(outputElement.lastPromiseValue);\n",
              "  return Promise.resolve(next.value.promise).then((value) => {\n",
              "    // Cache the last promise value to make it available to the next\n",
              "    // step of the generator.\n",
              "    outputElement.lastPromiseValue = value;\n",
              "    return next.value.response;\n",
              "  });\n",
              "}\n",
              "\n",
              "/**\n",
              " * Generator function which is called between each async step of the upload\n",
              " * process.\n",
              " * @param {string} inputId Element ID of the input file picker element.\n",
              " * @param {string} outputId Element ID of the output display.\n",
              " * @return {!Iterable<!Object>} Iterable of next steps.\n",
              " */\n",
              "function* uploadFilesStep(inputId, outputId) {\n",
              "  const inputElement = document.getElementById(inputId);\n",
              "  inputElement.disabled = false;\n",
              "\n",
              "  const outputElement = document.getElementById(outputId);\n",
              "  outputElement.innerHTML = '';\n",
              "\n",
              "  const pickedPromise = new Promise((resolve) => {\n",
              "    inputElement.addEventListener('change', (e) => {\n",
              "      resolve(e.target.files);\n",
              "    });\n",
              "  });\n",
              "\n",
              "  const cancel = document.createElement('button');\n",
              "  inputElement.parentElement.appendChild(cancel);\n",
              "  cancel.textContent = 'Cancel upload';\n",
              "  const cancelPromise = new Promise((resolve) => {\n",
              "    cancel.onclick = () => {\n",
              "      resolve(null);\n",
              "    };\n",
              "  });\n",
              "\n",
              "  // Wait for the user to pick the files.\n",
              "  const files = yield {\n",
              "    promise: Promise.race([pickedPromise, cancelPromise]),\n",
              "    response: {\n",
              "      action: 'starting',\n",
              "    }\n",
              "  };\n",
              "\n",
              "  cancel.remove();\n",
              "\n",
              "  // Disable the input element since further picks are not allowed.\n",
              "  inputElement.disabled = true;\n",
              "\n",
              "  if (!files) {\n",
              "    return {\n",
              "      response: {\n",
              "        action: 'complete',\n",
              "      }\n",
              "    };\n",
              "  }\n",
              "\n",
              "  for (const file of files) {\n",
              "    const li = document.createElement('li');\n",
              "    li.append(span(file.name, {fontWeight: 'bold'}));\n",
              "    li.append(span(\n",
              "        `(${file.type || 'n/a'}) - ${file.size} bytes, ` +\n",
              "        `last modified: ${\n",
              "            file.lastModifiedDate ? file.lastModifiedDate.toLocaleDateString() :\n",
              "                                    'n/a'} - `));\n",
              "    const percent = span('0% done');\n",
              "    li.appendChild(percent);\n",
              "\n",
              "    outputElement.appendChild(li);\n",
              "\n",
              "    const fileDataPromise = new Promise((resolve) => {\n",
              "      const reader = new FileReader();\n",
              "      reader.onload = (e) => {\n",
              "        resolve(e.target.result);\n",
              "      };\n",
              "      reader.readAsArrayBuffer(file);\n",
              "    });\n",
              "    // Wait for the data to be ready.\n",
              "    let fileData = yield {\n",
              "      promise: fileDataPromise,\n",
              "      response: {\n",
              "        action: 'continue',\n",
              "      }\n",
              "    };\n",
              "\n",
              "    // Use a chunked sending to avoid message size limits. See b/62115660.\n",
              "    let position = 0;\n",
              "    do {\n",
              "      const length = Math.min(fileData.byteLength - position, MAX_PAYLOAD_SIZE);\n",
              "      const chunk = new Uint8Array(fileData, position, length);\n",
              "      position += length;\n",
              "\n",
              "      const base64 = btoa(String.fromCharCode.apply(null, chunk));\n",
              "      yield {\n",
              "        response: {\n",
              "          action: 'append',\n",
              "          file: file.name,\n",
              "          data: base64,\n",
              "        },\n",
              "      };\n",
              "\n",
              "      let percentDone = fileData.byteLength === 0 ?\n",
              "          100 :\n",
              "          Math.round((position / fileData.byteLength) * 100);\n",
              "      percent.textContent = `${percentDone}% done`;\n",
              "\n",
              "    } while (position < fileData.byteLength);\n",
              "  }\n",
              "\n",
              "  // All done.\n",
              "  yield {\n",
              "    response: {\n",
              "      action: 'complete',\n",
              "    }\n",
              "  };\n",
              "}\n",
              "\n",
              "scope.google = scope.google || {};\n",
              "scope.google.colab = scope.google.colab || {};\n",
              "scope.google.colab._files = {\n",
              "  _uploadFiles,\n",
              "  _uploadFilesContinue,\n",
              "};\n",
              "})(self);\n",
              "</script> "
            ]
          },
          "metadata": {}
        },
        {
          "output_type": "stream",
          "name": "stdout",
          "text": [
            "Saving dataset_riotAPI.xlsx to dataset_riotAPI.xlsx\n"
          ]
        }
      ]
    },
    {
      "cell_type": "markdown",
      "source": [
        "III/Importation de fichier excel et insertion dans la table"
      ],
      "metadata": {
        "id": "x4EhvlFIuaDi"
      },
      "id": "x4EhvlFIuaDi"
    },
    {
      "cell_type": "code",
      "execution_count": null,
      "id": "ada6534f",
      "metadata": {
        "id": "ada6534f"
      },
      "outputs": [],
      "source": [
        "df=pd.read_excel('dataset_riotAPI.xlsx')\n",
        "df=df.drop('Unnamed: 0',axis=1)\n",
        "df = df.iloc[:-16]\n",
        "\n",
        "# Insert the dataframe into the table\n",
        "def insert_into_table(cur,df):\n",
        "    for index, row in df.iterrows():\n",
        "        cur.execute(\"INSERT INTO DATA_PJT_RITO VALUES ( %s, %s, %s, %s, %s, %s, %s, %s, %s, %s, %s, %s, %s, %s, %s, %s, %s, %s, %s, %s, %s, %s, %s, %s, %s)\",\n",
        "                    (row['wr_joueur_1'], row['wr_joueur_2'], row['wr_joueur_3'],row['wr_joueur_4'], row['wr_joueur_5'],\n",
        "                     row['wr_joueur_6'], row['wr_joueur_7'], row['wr_joueur_8'], row['wr_joueur_9'], row['wr_joueur_10'],\n",
        "                     row['masteries_joueur_1'], row['masteries_joueur_2'], row['masteries_joueur_3'], row['masteries_joueur_4'], \n",
        "                     row['masteries_joueur_5'], row['masteries_joueur_6'], row['masteries_joueur_7'], row['masteries_joueur_8'], \n",
        "                     row['masteries_joueur_9'], row['masteries_joueur_10'],row['wr équipe bleu'],row['wr équipe Rouge'],\n",
        "                     row['masteries_blue'],row['mawteries_red'],row['wr équipe bleu']))\n",
        "\n",
        "#On corrige le problème de format\n",
        "import numpy as np\n",
        "from psycopg2.extensions import register_adapter, AsIs\n",
        "psycopg2.extensions.register_adapter(np.int64, psycopg2._psycopg.AsIs)\n",
        "\n",
        "insert_into_table(cur,df)\n",
        "# Commit the transaction\n",
        "conn.commit()\n"
      ]
    },
    {
      "cell_type": "markdown",
      "source": [
        "IV/Vérification du contenu"
      ],
      "metadata": {
        "id": "VDtQGlrbuoEr"
      },
      "id": "VDtQGlrbuoEr"
    },
    {
      "cell_type": "code",
      "execution_count": null,
      "id": "1d166073",
      "metadata": {
        "colab": {
          "base_uri": "https://localhost:8080/"
        },
        "id": "1d166073",
        "outputId": "fbcf85dc-cf41-4e46-a860-9f122a7d3d34"
      },
      "outputs": [
        {
          "output_type": "stream",
          "name": "stdout",
          "text": [
            "1115\n"
          ]
        },
        {
          "output_type": "execute_result",
          "data": {
            "text/plain": [
              "<function connection.close>"
            ]
          },
          "metadata": {},
          "execution_count": 12
        }
      ],
      "source": [
        "cur.execute(\"SELECT * FROM DATA_PJT_RITO\")\n",
        "print(len(cur.fetchall()))\n",
        "conn.close"
      ]
    }
  ],
  "metadata": {
    "kernelspec": {
      "display_name": "Python 3 (ipykernel)",
      "language": "python",
      "name": "python3"
    },
    "language_info": {
      "codemirror_mode": {
        "name": "ipython",
        "version": 3
      },
      "file_extension": ".py",
      "mimetype": "text/x-python",
      "name": "python",
      "nbconvert_exporter": "python",
      "pygments_lexer": "ipython3",
      "version": "3.7.3"
    },
    "colab": {
      "provenance": []
    }
  },
  "nbformat": 4,
  "nbformat_minor": 5
}
