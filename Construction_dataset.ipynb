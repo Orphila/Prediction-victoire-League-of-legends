{
  "cells": [
    {
      "cell_type": "markdown",
      "metadata": {
        "id": "HdTeg5DmaiT9"
      },
      "source": [
        "I/Importation des modules et appel de l'API de Riot games"
      ]
    },
    {
      "cell_type": "code",
      "execution_count": null,
      "metadata": {
        "id": "Nl-Qm994PTOV"
      },
      "outputs": [],
      "source": [
        "import random\n",
        "!pip install cassiopeia\n",
        "import cassiopeia as cass\n",
        "from bs4 import BeautifulSoup\n",
        "cass.set_riot_api_key(\"clé\") #Mettre le lien de la clé ici, je ne partage pas le mien\n",
        "\n",
        "r='EUW'\n",
        "\"\"\"\n",
        "Voici la méthode de construction du dataset:\n",
        "\n",
        "-On choisir un invocateur au hasard\n",
        "-On regarde son historique et on sélectionne une partie classée\n",
        "-On sauvegarde les win rate et maîtrises avec le champion joué de tous les participant\n",
        "-On en sélectionne au hasard un autre invocateur\n",
        "-On ajoute les données dans le dataset\n",
        "-On recommance le procédé \n",
        "\n",
        "\"\"\"\n"
      ]
    },
    {
      "cell_type": "markdown",
      "source": [
        "II/Récupération  d'une liste de joueurs"
      ],
      "metadata": {
        "id": "GHxJWMVkrfSe"
      }
    },
    {
      "cell_type": "code",
      "execution_count": null,
      "metadata": {
        "id": "rvu4q3hxA1u3"
      },
      "outputs": [],
      "source": [
        "from cassiopeia import Summoner,Patch\n",
        "from cassiopeia.data import Queue\n",
        "\n",
        "\n",
        "def get_infos_summoners(summ):\n",
        "  \"\"\"\n",
        "  On chosit une game et on récupère les ids des participants, \n",
        "  ainsi que leur teams\n",
        "  \"\"\"\n",
        "  patch1 = Patch.from_str(\"12.18\", region=r)\n",
        "  patch2 = patch1\n",
        "  summoner = Summoner(id=summ.id, region=r)\n",
        "  match_history = cass.get_match_history(\n",
        "        continent=summoner.region.continent,\n",
        "        puuid=summoner.puuid,\n",
        "        queue=Queue.ranked_solo_fives,\n",
        "        start_time=patch1.start,\n",
        "        end_time=patch2.end\n",
        "        )\n",
        "  \n",
        "  #On prends une game au hasard dans l'historique\n",
        "  #print(\"len(match_history) =\",len(match_history))\n",
        "  if len(match_history)==0:\n",
        "    print(\"ça prends des douches ici\")\n",
        "    summ=random.choice(names[0])[0]\n",
        "    return get_infos_summoners(summ)\n",
        "  else:\n",
        "    \n",
        "    k=random.choice([i for i in range(len(match_history))])\n",
        "    \n",
        "    match = match_history[k]\n",
        "\n",
        "    #On récupère les id des participants\n",
        "    #p = match.participants[summoner] \n",
        "    p = match.participants\n",
        "    invocateurs=[]\n",
        "    i=0\n",
        "    for p in match.blue_team.participants:       \n",
        "      invocateurs.append([Summoner(id=p.summoner.id,region=r),\n",
        "                          cass.Champion(id=p.champion.id,region=r),\n",
        "                          i])\n",
        "      i+=1\n",
        "    for p in match.red_team.participants:       \n",
        "      invocateurs.append([Summoner(id=p.summoner.id,region=r),\n",
        "                          cass.Champion(id=p.champion.id,region=r),\n",
        "                          i])\n",
        "      i+=1\n",
        "      #On vérifie qui a gagné\n",
        "    win_blue=match.blue_team.win\n",
        "      #On renvoi la liste des invocateurs et les vaincqueurs\n",
        "\n",
        "    print(\"UNE LISTE DE SUMMS SORTIE\")\n",
        "    return(invocateurs,win_blue)"
      ]
    },
    {
      "cell_type": "markdown",
      "source": [
        "III/Récupération des rôles joués et réécriture des pseudos"
      ],
      "metadata": {
        "id": "mSEFnesGrkEQ"
      }
    },
    {
      "cell_type": "code",
      "execution_count": null,
      "metadata": {
        "id": "XpmnEAJeAcvP"
      },
      "outputs": [],
      "source": [
        "\n",
        "!apt update\n",
        "!apt install chromium-chromedriver\n",
        "!pip install selenium\n",
        "\n",
        "from selenium import webdriver\n",
        "import time\n",
        "\n",
        "champions=cass.Champions(region = r)\n",
        "\n",
        "def get_nom_sum(nom):\n",
        "    \"\"\"\n",
        "    On utilise cette fonction afin de gérer l'existance d'espace dans un nom d'invcateurs,\n",
        "    ce qui change l'url de la page\n",
        "    \"\"\"\n",
        "    for k in range(len(nom)):\n",
        "        if nom[k]==' ' and k!=0:\n",
        "            nom[k]='%'\n",
        "        return nom\n",
        "\n",
        "def get_role(place):\n",
        "    \"\"\"\n",
        "    selon la place dans la liste, On attribue le rôle du sumonner\n",
        "    J'ai essayé d'utiliser les attributs \"rôle\" et \"lane\", mais ils sont\n",
        "    soit déternminés par le rôle au départ (qui peut changer assez souvent)\n",
        "    soit par l'endroit où on a le plus passé de temps qui souvent pour les \n",
        "    jungle et support n'est pas l'endroit attribué\n",
        "    \"\"\"\n",
        "    if place==0 or place==5:\n",
        "        return 'TOP'\n",
        "    if place==1 or place==6:\n",
        "        return 'JUNGLE'\n",
        "    if place==2 or place==7:\n",
        "        return 'MID'\n",
        "    if place==3 or place==8:\n",
        "        return 'CARRY'\n",
        "    if place==4 or place==9:\n",
        "        return 'SUPPORT'"
      ]
    },
    {
      "cell_type": "markdown",
      "source": [
        "IV/Récupération des win rates et maîtrises"
      ],
      "metadata": {
        "id": "GF9GMZnjrvfa"
      }
    },
    {
      "cell_type": "code",
      "execution_count": null,
      "metadata": {
        "id": "d4dYD8SwCSK6"
      },
      "outputs": [],
      "source": [
        "def get_win_rate_and_masteries(summ,champ,place,erreur):\n",
        "    \"\"\"\n",
        "    On scrappe le site mobalitycs.gg pour récupérer les win rates d'un certain champion à un certain rôles\n",
        "    et ce pour chaque invocateur. On récupères également les masteries sur le champs\n",
        "    \"\"\"\n",
        "    if type(summ)==str:\n",
        "        name=summ\n",
        "        print(\"ENCORE OIT FUMIER\")\n",
        "    else:\n",
        "        name = get_nom_sum(summ.name)\n",
        "        \n",
        "    role=get_role(place)\n",
        "    options = webdriver.ChromeOptions()\n",
        "    options.add_argument('--headless')\n",
        "    options.add_argument('--no-sandbox')\n",
        "    url = 'https://app.mobalytics.gg/lol/profile/euw/'+name+'/champion-pool?c_champion='+str(champ.id)+'&c_queue=RANKED_SOLO&c_role='+role\n",
        "    driver = webdriver.Chrome(options=options)\n",
        "    driver.get(url)\n",
        "    time.sleep(3)\n",
        "    content = driver.page_source.encode('utf-8').strip()\n",
        "    soup = BeautifulSoup(content,\"html.parser\")\n",
        "    #names = soup.find_all(\"a\",{\"target\":\"blank\"})\n",
        "    wr = soup.find('div',{\"class\":\"m-srjk1z e1cltcfb0\"})\n",
        "    driver.close()\n",
        "    if wr==None:\n",
        "        \"\"\"\n",
        "        Si on ne trouve rien, c'est que l'invocateur a changé de pseudo depuis la game récupérée\n",
        "        On va donc chercher le pseudo qu'il portait dans la dernière game de son historique\n",
        "        Avec une reconnaissance de l'id, qui lui, ne change jamais\n",
        "        \"\"\"\n",
        "        \n",
        "        if type(erreur)==str:\n",
        "            \"\"\"\n",
        "            On est entré deux fois ici,on peut en conclure qu'il y a une erreur\n",
        "            et on ne rouvera pas le wr du sommoner à ce rôle pour ce champion\n",
        "            \"\"\"\n",
        "            print(\"étape X :C LA CATA(RINA)\")\n",
        "            summ=Summoner(name=summ,region=r)\n",
        "            cm = cass.get_champion_mastery(summoner=erreur,champion=champ.id,region=r).points\n",
        "            return [0,cm]\n",
        "\n",
        "        H=cass.get_match_history(continent=summ.region.continent,puuid=summ.puuid)\n",
        "        M=H[0]\n",
        "        for k in M.participants:\n",
        "            J=k.to_dict()\n",
        "            if J['summonerId']==summ.id:\n",
        "                ancien_nom =name\n",
        "                print(\"ancien nom = \",ancien_nom)\n",
        "                name=(J['summonerName'])\n",
        "                print(\"nouveau nom = \",name)\n",
        "                return get_win_rate_and_masteries(name,champ,place,ancien_nom)\n",
        "    \n",
        "    wr=wr.get_text() #On obtient ici le win rate en chaine de caractères\n",
        "    if type(summ)==str:\n",
        "        print(\"name = \",name)\n",
        "        print(\"ancien nom =\",erreur)\n",
        "        summ=Summoner(name=erreur,region=r)\n",
        "        print(\"le summoner est : \",summ.name)\n",
        "        print(\"id summ = \",summ.id)\n",
        "    cm = cass.get_champion_mastery(summoner=summ,champion=champ.id,region=r).points\n",
        "    print(\"étape FINALE : IL Y A DES MASTERIES\")\n",
        "    if str(wr)[:3]=='100':\n",
        "        return [100,cm]\n",
        "    if str(wr)[1]=='.':\n",
        "        print(\"wr = \",int(wr[0]))\n",
        "        return([int(wr[0]),cm])\n",
        "        \n",
        "    else:\n",
        "        print(\"wr = \",int(wr[:2]))\n",
        "        return([int(wr[:2]),cm])"
      ]
    },
    {
      "cell_type": "markdown",
      "source": [
        "V/Création des listes à ajouter au dataset"
      ],
      "metadata": {
        "id": "g2LGJkzjsAIf"
      }
    },
    {
      "cell_type": "code",
      "execution_count": null,
      "metadata": {
        "id": "US6RBfhUj_38"
      },
      "outputs": [],
      "source": [
        "def data_game(game):\n",
        "  \"\"\"\n",
        "  On prend un get_infos_summoners(sum) en antrée \n",
        "  et on en ressort les stats sur les champions des joueurs\n",
        "  \"\"\"\n",
        "  win_rates_indiv=[] #On récupère les win rates de chacun ici\n",
        "  masteries_indiv=[] #On récupère les masteries de chacun ici\n",
        "  wr_blue,wr_red=0,0 #On les somme ici\n",
        "  mas_blue,mas_red=0,0\n",
        "  \n",
        "  i=0\n",
        "  for joueur in game[0][:5]:\n",
        "    print(\"Nom , Champ, place = \",joueur[0].name,joueur[1].name,get_role(joueur[2]))\n",
        "    f=get_win_rate_and_masteries(joueur[0],joueur[1],joueur[2],0)\n",
        "    wr_blue+=f[0]\n",
        "    mas_blue+=f[1]\n",
        "    i+=1\n",
        "    win_rates_indiv.append(f[0])\n",
        "    masteries_indiv.append(f[1])\n",
        "    print('joueur numéro ',i,\" sorti\")\n",
        "  for joueur in game[0][5:]:\n",
        "    print(\"Nom , Champ, place = \",joueur[0].name,joueur[1].name,get_role(joueur[2]))\n",
        "    f=get_win_rate_and_masteries(joueur[0],joueur[1],joueur[2],0)\n",
        "    wr_red+=f[0]\n",
        "    mas_red+=f[1]\n",
        "    i+=1\n",
        "    win_rates_indiv.append(f[0])\n",
        "    masteries_indiv.append(f[1])\n",
        "    print('joueur numéro ',i,\" sorti\")\n",
        "  \n",
        "  \n",
        "  win_blue=game[1]\n",
        "  \n",
        "  res = [win_rates_indiv,masteries_indiv,wr_blue,wr_red,mas_blue,mas_red,win_blue]\n",
        "  return res"
      ]
    },
    {
      "cell_type": "markdown",
      "source": [
        "VI/Lancement de la boucle"
      ],
      "metadata": {
        "id": "oogIz2I3sFZs"
      }
    },
    {
      "cell_type": "code",
      "execution_count": null,
      "metadata": {
        "id": "EowtX4IoFdSf"
      },
      "outputs": [],
      "source": [
        "premier_sum = Summoner(name=\"Ferrettt\", region=r)\n",
        "#On commence avec lui\n",
        "sum=premier_sum\n",
        "\n",
        "RES=[]\n",
        "  \n",
        "for k in range(1500):\n",
        "  names=get_infos_summoners(sum)\n",
        "  RES.append(data_game(names))\n",
        "  sum=random.choice(names[0])[0]\n",
        "  print(\"On passe à l'itération numéro \",k+1)"
      ]
    },
    {
      "cell_type": "markdown",
      "source": [
        "VII/Création et formatage du dataframe avec les données récupérées et création d'un fichier excel"
      ],
      "metadata": {
        "id": "C8Ssv34QsRKh"
      }
    },
    {
      "cell_type": "code",
      "execution_count": null,
      "metadata": {
        "id": "lEuCyxxWQfgv"
      },
      "outputs": [],
      "source": [
        "import pandas as pd\n",
        "\n",
        "df = pd.DataFrame(columns=['wr_joueur_1',\n",
        "                           'wr_joueur_2',\n",
        "                           'wr_joueur_3',\n",
        "                           'wr_joueur_4',\n",
        "                           'wr_joueur_5',\n",
        "                           'wr_joueur_6',\n",
        "                           'wr_joueur_7',\n",
        "                           'wr_joueur_8',\n",
        "                           'wr_joueur_9',\n",
        "                           'wr_joueur_10',\n",
        "                           'masteries_joueur_1',\n",
        "                           'masteries_joueur_2',\n",
        "                           'masteries_joueur_3',\n",
        "                           'masteries_joueur_4',\n",
        "                           'masteries_joueur_5',\n",
        "                           'masteries_joueur_6',\n",
        "                           'masteries_joueur_7',\n",
        "                           'masteries_joueur_8',\n",
        "                           'masteries_joueur_9',\n",
        "                           'masteries_joueur_10',\n",
        "                           'wr équipe bleu',\n",
        "                           'wr équipe Rouge',\n",
        "                           'masteries_blue',\n",
        "                           'mawteries_red' ,\n",
        "                           'Victoire bleus'],\n",
        "                    data=[[0 for k in range(25)]])\n",
        "\n",
        "\n",
        "\n",
        "def reshape(RES):\n",
        "    R=[0]\n",
        "    for l in RES:\n",
        "        #print(\"l = \",l)\n",
        "        a,b=[],[]\n",
        "        for i in range(len(l)):\n",
        "            #print(\"i = \",i)\n",
        "            if i==0 or i==1:\n",
        "                #print(\"i = \",i)\n",
        "                for u in l[i]:\n",
        "                    #print(\"u = \",u)\n",
        "                    a.append(u)\n",
        "            else:\n",
        "                #print(\"i = \",i)\n",
        "                #print(\"RES[i]= \",l[i])\n",
        "                b.append(l[i])\n",
        "        \n",
        "        R.append(a+b)\n",
        "    R.pop(0)\n",
        "    return R\n",
        "\n",
        "def ad_df(df,RES):\n",
        "    R=reshape(RES)\n",
        "    u='00'\n",
        "    for k in range(len(R)):\n",
        "        df.loc[k]=R[k]\n",
        "    df.to_excel('FINALE_PART_'+u+'.xlsx')\n",
        "\n",
        "ad_df(df,RES)\n",
        "len(RES)"
      ]
    }
  ],
  "metadata": {
    "colab": {
      "provenance": []
    },
    "kernelspec": {
      "display_name": "Python 3",
      "name": "python3"
    },
    "language_info": {
      "name": "python"
    }
  },
  "nbformat": 4,
  "nbformat_minor": 0
}